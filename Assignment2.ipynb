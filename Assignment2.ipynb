{
 "cells": [
  {
   "cell_type": "code",
   "execution_count": 17,
   "id": "6882764f",
   "metadata": {},
   "outputs": [],
   "source": [
    "#import statements\n",
    "import pandas as pd \n",
    "import numpy as np \n",
    "import tensorflow as tf \n",
    "from pathlib import Path\n",
    "import os\n",
    "from sklearn.model_selection import train_test_split\n",
    "from helper_methods import print_schema, encode_numeric_zscore, encode_text_dummy, print_column, encode_text_index, to_xy\n",
    "from tensorflow.keras.models import Sequential\n",
    "from tensorflow.keras.layers import Dense, Dropout\n",
    "from tensorflow.keras.optimizers import SGD\n",
    "from tensorflow.keras.callbacks import EarlyStopping, ModelCheckpoint\n",
    "from sklearn import metrics\n",
    "import matplotlib.pyplot as plt "
   ]
  },
  {
   "cell_type": "markdown",
   "id": "8cc1d33f",
   "metadata": {},
   "source": [
    "### Setup Environment\n",
    "Create folders for putting test output in"
   ]
  },
  {
   "cell_type": "code",
   "execution_count": 18,
   "id": "44ed3197",
   "metadata": {},
   "outputs": [
    {
     "name": "stdout",
     "output_type": "stream",
     "text": [
      "[WinError 183] Cannot create a file when that file already exists: 'c:\\\\Users\\\\User\\\\csc180\\\\network-traffic-analyzer\\\\test-output/'\n"
     ]
    }
   ],
   "source": [
    "base_path=os.path.join(os.getcwd(), 'test-output/')\n",
    "\n",
    "iteration='iteration-0'\n",
    "full_path = os.path.join(base_path, iteration)\n",
    "\n",
    "try:\n",
    "    os.mkdir(base_path)\n",
    "    os.mkdir(full_path)\n",
    "except Exception as e:\n",
    "    print(f\"{e}\")"
   ]
  },
  {
   "cell_type": "code",
   "execution_count": 19,
   "id": "2447f92e",
   "metadata": {},
   "outputs": [],
   "source": [
    "#read from train/test datasets\n",
    "training_dataframe = pd.read_csv(os.path.join(os.getcwd(), 'data/UNSW_NB15_training-set.csv'))\n",
    "testing_dataframe = pd.read_csv(os.path.join(os.getcwd(), 'data/UNSW_NB15_testing-set.csv'))"
   ]
  },
  {
   "cell_type": "code",
   "execution_count": 20,
   "id": "413f56ae",
   "metadata": {},
   "outputs": [],
   "source": [
    "#drop all entries that have a missing value anywhere in the set\n",
    "training_dataframe = training_dataframe.replace('-', np.nan).dropna()\n",
    "testing_dataframe = testing_dataframe.replace('-', np.nan).dropna()\n"
   ]
  },
  {
   "cell_type": "code",
   "execution_count": 21,
   "id": "afd24337",
   "metadata": {},
   "outputs": [
    {
     "data": {
      "text/plain": [
       "(35179, 45)"
      ]
     },
     "execution_count": 21,
     "metadata": {},
     "output_type": "execute_result"
    }
   ],
   "source": [
    "testing_dataframe.shape"
   ]
  },
  {
   "cell_type": "code",
   "execution_count": 22,
   "id": "60380dc0",
   "metadata": {},
   "outputs": [],
   "source": [
    "#get one instance of each value from each dataframe\n",
    "training_unique = training_dataframe[\"proto\"].unique()\n",
    "testing_unique = testing_dataframe[\"proto\"].unique()\n",
    "\n",
    "#get only values from each numpy array\n",
    "common_values = np.intersect1d(training_unique, testing_unique)\n",
    "\n",
    "#make a filtered dataframe containing only values in common_values\n",
    "training_dataframe = training_dataframe[training_dataframe['proto'].isin(common_values)]\n",
    "testing_dataframe = testing_dataframe[testing_dataframe['proto'].isin(common_values)]\n",
    "\n",
    "#same for service\n",
    "training_unique = training_dataframe[\"service\"].unique()\n",
    "testing_unique = testing_dataframe[\"service\"].unique()\n",
    "common_values = np.intersect1d(training_unique, testing_unique)\n",
    "training_dataframe = training_dataframe[training_dataframe['service'].isin(common_values)]\n",
    "testing_dataframe = testing_dataframe[testing_dataframe['service'].isin(common_values)]\n",
    "\n",
    "#same for state\n",
    "training_unique = training_dataframe[\"state\"].unique()\n",
    "testing_unique = testing_dataframe[\"state\"].unique()\n",
    "common_values = np.intersect1d(training_unique, testing_unique)\n",
    "training_dataframe = training_dataframe[training_dataframe['state'].isin(common_values)]\n",
    "testing_dataframe = testing_dataframe[testing_dataframe['state'].isin(common_values)]\n"
   ]
  },
  {
   "cell_type": "code",
   "execution_count": 23,
   "id": "fee37ef5",
   "metadata": {},
   "outputs": [
    {
     "data": {
      "text/plain": [
       "(35178, 45)"
      ]
     },
     "execution_count": 23,
     "metadata": {},
     "output_type": "execute_result"
    }
   ],
   "source": [
    "testing_dataframe.shape"
   ]
  },
  {
   "cell_type": "code",
   "execution_count": 24,
   "id": "a38ff501",
   "metadata": {},
   "outputs": [
    {
     "name": "stdout",
     "output_type": "stream",
     "text": [
      "~~~~~~dataframe schema~~~~~~\n",
      "Dataframe shape: (81159, 45) | Dataframe length: 81159\n",
      "Column labels: \n",
      "Index(['id', 'dur', 'proto', 'service', 'state', 'spkts', 'dpkts', 'sbytes',\n",
      "       'dbytes', 'rate', 'sttl', 'dttl', 'sload', 'dload', 'sloss', 'dloss',\n",
      "       'sinpkt', 'dinpkt', 'sjit', 'djit', 'swin', 'stcpb', 'dtcpb', 'dwin',\n",
      "       'tcprtt', 'synack', 'ackdat', 'smean', 'dmean', 'trans_depth',\n",
      "       'response_body_len', 'ct_srv_src', 'ct_state_ttl', 'ct_dst_ltm',\n",
      "       'ct_src_dport_ltm', 'ct_dst_sport_ltm', 'ct_dst_src_ltm',\n",
      "       'is_ftp_login', 'ct_ftp_cmd', 'ct_flw_http_mthd', 'ct_src_ltm',\n",
      "       'ct_srv_dst', 'is_sm_ips_ports', 'attack_cat', 'label'],\n",
      "      dtype='object')\n",
      "Dataframe head: \n",
      "    id       dur proto service state  spkts  dpkts  sbytes  dbytes  \\\n",
      "3    4  1.681642   tcp     ftp   FIN     12     12     628     770   \n",
      "11  12  2.093085   tcp    smtp   FIN     62     28   56329    2212   \n",
      "15  16  0.000002   udp    snmp   INT      2      0     138       0   \n",
      "17  18  0.393556   tcp    http   FIN     10      8     860    1096   \n",
      "21  22  0.338017   tcp    http   FIN     10      6     998     268   \n",
      "\n",
      "             rate  ...  ct_dst_sport_ltm  ct_dst_src_ltm  is_ftp_login  \\\n",
      "3       13.677108  ...                 1               3             1   \n",
      "11      42.520967  ...                 1               2             0   \n",
      "15  500000.001300  ...                 1               4             0   \n",
      "17      43.195886  ...                 1               2             0   \n",
      "21      44.376468  ...                 1               1             0   \n",
      "\n",
      "    ct_ftp_cmd  ct_flw_http_mthd  ct_src_ltm  ct_srv_dst  is_sm_ips_ports  \\\n",
      "3            1                 0           2           1                0   \n",
      "11           0                 0           1           1                0   \n",
      "15           0                 0           2           1                0   \n",
      "17           0                 1           1           3                0   \n",
      "21           0                 1           2           3                0   \n",
      "\n",
      "    attack_cat  label  \n",
      "3       Normal      0  \n",
      "11      Normal      0  \n",
      "15      Normal      0  \n",
      "17      Normal      0  \n",
      "21      Normal      0  \n",
      "\n",
      "[5 rows x 45 columns]\n",
      "~~~~~~dataframe schema~~~~~~\n",
      "Dataframe shape: (35178, 45) | Dataframe length: 35178\n",
      "Column labels: \n",
      "Index(['id', 'dur', 'proto', 'service', 'state', 'spkts', 'dpkts', 'sbytes',\n",
      "       'dbytes', 'rate', 'sttl', 'dttl', 'sload', 'dload', 'sloss', 'dloss',\n",
      "       'sinpkt', 'dinpkt', 'sjit', 'djit', 'swin', 'stcpb', 'dtcpb', 'dwin',\n",
      "       'tcprtt', 'synack', 'ackdat', 'smean', 'dmean', 'trans_depth',\n",
      "       'response_body_len', 'ct_srv_src', 'ct_state_ttl', 'ct_dst_ltm',\n",
      "       'ct_src_dport_ltm', 'ct_dst_sport_ltm', 'ct_dst_src_ltm',\n",
      "       'is_ftp_login', 'ct_ftp_cmd', 'ct_flw_http_mthd', 'ct_src_ltm',\n",
      "       'ct_srv_dst', 'is_sm_ips_ports', 'attack_cat', 'label'],\n",
      "      dtype='object')\n",
      "Dataframe head: \n",
      "    id       dur proto service state  spkts  dpkts  sbytes  dbytes       rate  \\\n",
      "35  36  0.983874   tcp    http   FIN     10      8     816    1172  17.278635   \n",
      "40  41  1.535254   tcp    http   FIN     10     10     826    1266  12.375802   \n",
      "45  46  1.059359   tcp    http   FIN     10      8     830    1134  16.047441   \n",
      "49  50  0.990548   tcp    http   FIN     10     10     804    1414  19.181301   \n",
      "72  73  1.303518   tcp    http   FIN     12      8     898    1120  14.575939   \n",
      "\n",
      "    ...  ct_dst_sport_ltm  ct_dst_src_ltm  is_ftp_login  ct_ftp_cmd  \\\n",
      "35  ...                 1               2             0           0   \n",
      "40  ...                 1               2             0           0   \n",
      "45  ...                 1               1             0           0   \n",
      "49  ...                 1               2             0           0   \n",
      "72  ...                 1               1             0           0   \n",
      "\n",
      "    ct_flw_http_mthd  ct_src_ltm  ct_srv_dst  is_sm_ips_ports  attack_cat  \\\n",
      "35                 1           1           3                0      Normal   \n",
      "40                 1           1           3                0      Normal   \n",
      "45                 1           3           1                0      Normal   \n",
      "49                 1           1           2                0      Normal   \n",
      "72                 1           2           1                0      Normal   \n",
      "\n",
      "    label  \n",
      "35      0  \n",
      "40      0  \n",
      "45      0  \n",
      "49      0  \n",
      "72      0  \n",
      "\n",
      "[5 rows x 45 columns]\n"
     ]
    }
   ],
   "source": [
    "print_schema(training_dataframe)\n",
    "print_schema(testing_dataframe)"
   ]
  },
  {
   "cell_type": "markdown",
   "id": "6ec1ae45",
   "metadata": {},
   "source": [
    "### Encode Data\n",
    "\n",
    "One-hot encode relevant rows\n"
   ]
  },
  {
   "cell_type": "code",
   "execution_count": 25,
   "id": "0f9c73bc",
   "metadata": {},
   "outputs": [
    {
     "data": {
      "text/plain": [
       "array(['Backdoor', 'DoS', 'Exploits', 'Fuzzers', 'Generic', 'Normal',\n",
       "       'Reconnaissance', 'Worms'], dtype=object)"
      ]
     },
     "execution_count": 25,
     "metadata": {},
     "output_type": "execute_result"
    }
   ],
   "source": [
    "# one-hot encode non-y features of training dataset\n",
    "encode_text_dummy(training_dataframe, 'proto')\n",
    "encode_text_dummy(training_dataframe, 'service')\n",
    "encode_text_dummy(training_dataframe, 'state')\n",
    "\n",
    "# one-hot encode attack-category column (y)\n",
    "encode_text_index(training_dataframe, 'attack_cat')\n",
    "# one-hot encode non-y features of testing dataset\n",
    "encode_text_dummy(testing_dataframe, 'proto')\n",
    "encode_text_dummy(testing_dataframe, 'service')\n",
    "encode_text_dummy(testing_dataframe, 'state')\n",
    "\n",
    "# one-hot encode attack-category column (y)\n",
    "encode_text_index(testing_dataframe, 'attack_cat')\n"
   ]
  },
  {
   "cell_type": "code",
   "execution_count": 26,
   "id": "ff30683a",
   "metadata": {},
   "outputs": [
    {
     "name": "stdout",
     "output_type": "stream",
     "text": [
      "~~~~~~dataframe schema~~~~~~\n",
      "Dataframe shape: (81159, 60) | Dataframe length: 81159\n",
      "Column labels: \n",
      "Index(['id', 'dur', 'spkts', 'dpkts', 'sbytes', 'dbytes', 'rate', 'sttl',\n",
      "       'dttl', 'sload', 'dload', 'sloss', 'dloss', 'sinpkt', 'dinpkt', 'sjit',\n",
      "       'djit', 'swin', 'stcpb', 'dtcpb', 'dwin', 'tcprtt', 'synack', 'ackdat',\n",
      "       'smean', 'dmean', 'trans_depth', 'response_body_len', 'ct_srv_src',\n",
      "       'ct_state_ttl', 'ct_dst_ltm', 'ct_src_dport_ltm', 'ct_dst_sport_ltm',\n",
      "       'ct_dst_src_ltm', 'is_ftp_login', 'ct_ftp_cmd', 'ct_flw_http_mthd',\n",
      "       'ct_src_ltm', 'ct_srv_dst', 'is_sm_ips_ports', 'attack_cat', 'label',\n",
      "       'proto-tcp', 'proto-udp', 'service-dhcp', 'service-dns', 'service-ftp',\n",
      "       'service-ftp-data', 'service-http', 'service-irc', 'service-pop3',\n",
      "       'service-radius', 'service-smtp', 'service-snmp', 'service-ssh',\n",
      "       'service-ssl', 'state-CON', 'state-FIN', 'state-INT', 'state-REQ'],\n",
      "      dtype='object')\n",
      "Dataframe head: \n",
      "    id       dur  spkts  dpkts  sbytes  dbytes           rate  sttl  dttl  \\\n",
      "3    4  1.681642     12     12     628     770      13.677108    62   252   \n",
      "11  12  2.093085     62     28   56329    2212      42.520967    62   252   \n",
      "15  16  0.000002      2      0     138       0  500000.001300   254     0   \n",
      "17  18  0.393556     10      8     860    1096      43.195886    62   252   \n",
      "21  22  0.338017     10      6     998     268      44.376468   254   252   \n",
      "\n",
      "           sload  ...  service-pop3  service-radius  service-smtp  \\\n",
      "3   2.740179e+03  ...         False           False         False   \n",
      "11  2.118251e+05  ...         False           False          True   \n",
      "15  2.760000e+08  ...         False           False         False   \n",
      "17  1.573347e+04  ...         False           False         False   \n",
      "21  2.127704e+04  ...         False           False         False   \n",
      "\n",
      "    service-snmp  service-ssh  service-ssl  state-CON  state-FIN  state-INT  \\\n",
      "3          False        False        False      False       True      False   \n",
      "11         False        False        False      False       True      False   \n",
      "15          True        False        False      False      False       True   \n",
      "17         False        False        False      False       True      False   \n",
      "21         False        False        False      False       True      False   \n",
      "\n",
      "    state-REQ  \n",
      "3       False  \n",
      "11      False  \n",
      "15      False  \n",
      "17      False  \n",
      "21      False  \n",
      "\n",
      "[5 rows x 60 columns]\n",
      "~~~~~~dataframe schema~~~~~~\n",
      "Dataframe shape: (35178, 60) | Dataframe length: 35178\n",
      "Column labels: \n",
      "Index(['id', 'dur', 'spkts', 'dpkts', 'sbytes', 'dbytes', 'rate', 'sttl',\n",
      "       'dttl', 'sload', 'dload', 'sloss', 'dloss', 'sinpkt', 'dinpkt', 'sjit',\n",
      "       'djit', 'swin', 'stcpb', 'dtcpb', 'dwin', 'tcprtt', 'synack', 'ackdat',\n",
      "       'smean', 'dmean', 'trans_depth', 'response_body_len', 'ct_srv_src',\n",
      "       'ct_state_ttl', 'ct_dst_ltm', 'ct_src_dport_ltm', 'ct_dst_sport_ltm',\n",
      "       'ct_dst_src_ltm', 'is_ftp_login', 'ct_ftp_cmd', 'ct_flw_http_mthd',\n",
      "       'ct_src_ltm', 'ct_srv_dst', 'is_sm_ips_ports', 'attack_cat', 'label',\n",
      "       'proto-tcp', 'proto-udp', 'service-dhcp', 'service-dns', 'service-ftp',\n",
      "       'service-ftp-data', 'service-http', 'service-irc', 'service-pop3',\n",
      "       'service-radius', 'service-smtp', 'service-snmp', 'service-ssh',\n",
      "       'service-ssl', 'state-CON', 'state-FIN', 'state-INT', 'state-REQ'],\n",
      "      dtype='object')\n",
      "Dataframe head: \n",
      "    id       dur  spkts  dpkts  sbytes  dbytes       rate  sttl  dttl  \\\n",
      "35  36  0.983874     10      8     816    1172  17.278635    62   252   \n",
      "40  41  1.535254     10     10     826    1266  12.375802    62   252   \n",
      "45  46  1.059359     10      8     830    1134  16.047441    62   252   \n",
      "49  50  0.990548     10     10     804    1414  19.181301    62   252   \n",
      "72  73  1.303518     12      8     898    1120  14.575939    62   252   \n",
      "\n",
      "          sload  ...  service-pop3  service-radius  service-smtp  \\\n",
      "35  5976.375000  ...         False           False         False   \n",
      "40  3876.882812  ...         False           False         False   \n",
      "45  5641.147461  ...         False           False         False   \n",
      "49  5847.268066  ...         False           False         False   \n",
      "72  5057.083984  ...         False           False         False   \n",
      "\n",
      "    service-snmp  service-ssh  service-ssl  state-CON  state-FIN  state-INT  \\\n",
      "35         False        False        False      False       True      False   \n",
      "40         False        False        False      False       True      False   \n",
      "45         False        False        False      False       True      False   \n",
      "49         False        False        False      False       True      False   \n",
      "72         False        False        False      False       True      False   \n",
      "\n",
      "    state-REQ  \n",
      "35      False  \n",
      "40      False  \n",
      "45      False  \n",
      "49      False  \n",
      "72      False  \n",
      "\n",
      "[5 rows x 60 columns]\n"
     ]
    }
   ],
   "source": [
    "print_schema(training_dataframe)\n",
    "print_schema(testing_dataframe)\n"
   ]
  },
  {
   "cell_type": "markdown",
   "id": "c603761a",
   "metadata": {},
   "source": [
    "Z-Score relevant rows"
   ]
  },
  {
   "cell_type": "code",
   "execution_count": 27,
   "id": "14acd131",
   "metadata": {},
   "outputs": [],
   "source": [
    "for column in training_dataframe.columns:\n",
    "    if column not in ['service', 'srcip', 'dstip', 'proto', 'state','service', 'attack_cat', 'label', 'is_ftp_login', 'is_sm_ips_ports', 'Stime', 'Ltime']:\n",
    "        encode_numeric_zscore(training_dataframe, column)\n",
    "for column in testing_dataframe.columns:\n",
    "    if column not in ['service', 'srcip', 'dstip', 'proto', 'state','service', 'attack_cat', 'label', 'is_ftp_login', 'is_sm_ips_ports', 'Stime', 'Ltime']:\n",
    "        encode_numeric_zscore(testing_dataframe, column)\n"
   ]
  },
  {
   "cell_type": "code",
   "execution_count": 28,
   "id": "0322d511",
   "metadata": {},
   "outputs": [
    {
     "name": "stdout",
     "output_type": "stream",
     "text": [
      "~~~~~~dataframe schema~~~~~~\n",
      "Dataframe shape: (81159, 60) | Dataframe length: 81159\n",
      "Column labels: \n",
      "Index(['id', 'dur', 'spkts', 'dpkts', 'sbytes', 'dbytes', 'rate', 'sttl',\n",
      "       'dttl', 'sload', 'dload', 'sloss', 'dloss', 'sinpkt', 'dinpkt', 'sjit',\n",
      "       'djit', 'swin', 'stcpb', 'dtcpb', 'dwin', 'tcprtt', 'synack', 'ackdat',\n",
      "       'smean', 'dmean', 'trans_depth', 'response_body_len', 'ct_srv_src',\n",
      "       'ct_state_ttl', 'ct_dst_ltm', 'ct_src_dport_ltm', 'ct_dst_sport_ltm',\n",
      "       'ct_dst_src_ltm', 'is_ftp_login', 'ct_ftp_cmd', 'ct_flw_http_mthd',\n",
      "       'ct_src_ltm', 'ct_srv_dst', 'is_sm_ips_ports', 'attack_cat', 'label',\n",
      "       'proto-tcp', 'proto-udp', 'service-dhcp', 'service-dns', 'service-ftp',\n",
      "       'service-ftp-data', 'service-http', 'service-irc', 'service-pop3',\n",
      "       'service-radius', 'service-smtp', 'service-snmp', 'service-ssh',\n",
      "       'service-ssl', 'state-CON', 'state-FIN', 'state-INT', 'state-REQ'],\n",
      "      dtype='object')\n",
      "Dataframe head: \n",
      "          id       dur     spkts     dpkts    sbytes    dbytes      rate  \\\n",
      "3  -1.930145  0.176161 -0.047987 -0.044583 -0.055887 -0.077789 -0.624198   \n",
      "11 -1.929998  0.267844  0.216817  0.076667  0.169738 -0.069503 -0.624030   \n",
      "15 -1.929924 -0.198559 -0.100948 -0.135521 -0.057872 -0.082213  2.286821   \n",
      "17 -1.929887 -0.110864 -0.058579 -0.074896 -0.054947 -0.075916 -0.624026   \n",
      "21 -1.929814 -0.123239 -0.058579 -0.090052 -0.054388 -0.080674 -0.624020   \n",
      "\n",
      "        sttl      dttl     sload  ...  service-pop3  service-radius  \\\n",
      "3  -1.042382  1.554515 -0.610173  ...     -0.117486       -0.012161   \n",
      "11 -1.042382  1.554515 -0.607593  ...     -0.117486       -0.012161   \n",
      "15  0.822744 -0.717531  2.795584  ...     -0.117486       -0.012161   \n",
      "17 -1.042382  1.554515 -0.610013  ...     -0.117486       -0.012161   \n",
      "21  0.822744  1.554515 -0.609945  ...     -0.117486       -0.012161   \n",
      "\n",
      "    service-smtp  service-snmp  service-ssh  service-ssl  state-CON  \\\n",
      "3      -0.257778     -0.031411    -0.127188    -0.026277  -0.324013   \n",
      "11      3.879260     -0.031411    -0.127188    -0.026277  -0.324013   \n",
      "15     -0.257778     31.835122    -0.127188    -0.026277  -0.324013   \n",
      "17     -0.257778     -0.031411    -0.127188    -0.026277  -0.324013   \n",
      "21     -0.257778     -0.031411    -0.127188    -0.026277  -0.324013   \n",
      "\n",
      "    state-FIN  state-INT  state-REQ  \n",
      "3    1.188510  -0.975659  -0.053077  \n",
      "11   1.188510  -0.975659  -0.053077  \n",
      "15  -0.841379   1.024935  -0.053077  \n",
      "17   1.188510  -0.975659  -0.053077  \n",
      "21   1.188510  -0.975659  -0.053077  \n",
      "\n",
      "[5 rows x 60 columns]\n",
      "~~~~~~dataframe schema~~~~~~\n",
      "Dataframe shape: (35178, 60) | Dataframe length: 35178\n",
      "Column labels: \n",
      "Index(['id', 'dur', 'spkts', 'dpkts', 'sbytes', 'dbytes', 'rate', 'sttl',\n",
      "       'dttl', 'sload', 'dload', 'sloss', 'dloss', 'sinpkt', 'dinpkt', 'sjit',\n",
      "       'djit', 'swin', 'stcpb', 'dtcpb', 'dwin', 'tcprtt', 'synack', 'ackdat',\n",
      "       'smean', 'dmean', 'trans_depth', 'response_body_len', 'ct_srv_src',\n",
      "       'ct_state_ttl', 'ct_dst_ltm', 'ct_src_dport_ltm', 'ct_dst_sport_ltm',\n",
      "       'ct_dst_src_ltm', 'is_ftp_login', 'ct_ftp_cmd', 'ct_flw_http_mthd',\n",
      "       'ct_src_ltm', 'ct_srv_dst', 'is_sm_ips_ports', 'attack_cat', 'label',\n",
      "       'proto-tcp', 'proto-udp', 'service-dhcp', 'service-dns', 'service-ftp',\n",
      "       'service-ftp-data', 'service-http', 'service-irc', 'service-pop3',\n",
      "       'service-radius', 'service-smtp', 'service-snmp', 'service-ssh',\n",
      "       'service-ssl', 'state-CON', 'state-FIN', 'state-INT', 'state-REQ'],\n",
      "      dtype='object')\n",
      "Dataframe head: \n",
      "          id       dur     spkts     dpkts    sbytes    dbytes      rate  \\\n",
      "35 -1.686107  0.151343 -0.044029 -0.056243 -0.047047 -0.063537 -0.654858   \n",
      "40 -1.685863  0.357138 -0.044029 -0.041795 -0.047000 -0.063025 -0.654888   \n",
      "45 -1.685618  0.179517 -0.044029 -0.056243 -0.046981 -0.063744 -0.654866   \n",
      "49 -1.685423  0.153834 -0.044029 -0.041795 -0.047103 -0.062220 -0.654846   \n",
      "72 -1.684299  0.270646 -0.031874 -0.056243 -0.046665 -0.063820 -0.654875   \n",
      "\n",
      "        sttl      dttl     sload  ...  service-pop3  service-radius  \\\n",
      "35 -1.100675  1.574342 -0.636450  ...      -0.11032       -0.015997   \n",
      "40 -1.100675  1.574342 -0.636477  ...      -0.11032       -0.015997   \n",
      "45 -1.100675  1.574342 -0.636454  ...      -0.11032       -0.015997   \n",
      "49 -1.100675  1.574342 -0.636451  ...      -0.11032       -0.015997   \n",
      "72 -1.100675  1.574342 -0.636462  ...      -0.11032       -0.015997   \n",
      "\n",
      "    service-smtp  service-snmp  service-ssh  service-ssl  state-CON  \\\n",
      "35     -0.235667     -0.028723    -0.076372    -0.029215  -0.313497   \n",
      "40     -0.235667     -0.028723    -0.076372    -0.029215  -0.313497   \n",
      "45     -0.235667     -0.028723    -0.076372    -0.029215  -0.313497   \n",
      "49     -0.235667     -0.028723    -0.076372    -0.029215  -0.313497   \n",
      "72     -0.235667     -0.028723    -0.076372    -0.029215  -0.313497   \n",
      "\n",
      "    state-FIN  state-INT  state-REQ  \n",
      "35   1.251327   -1.04209  -0.013061  \n",
      "40   1.251327   -1.04209  -0.013061  \n",
      "45   1.251327   -1.04209  -0.013061  \n",
      "49   1.251327   -1.04209  -0.013061  \n",
      "72   1.251327   -1.04209  -0.013061  \n",
      "\n",
      "[5 rows x 60 columns]\n"
     ]
    }
   ],
   "source": [
    "print_schema(training_dataframe)\n",
    "print_schema(testing_dataframe)"
   ]
  },
  {
   "cell_type": "code",
   "execution_count": 29,
   "id": "f05ae959",
   "metadata": {},
   "outputs": [],
   "source": [
    "x_train,y_train=to_xy(training_dataframe, 'label')\n",
    "x_test, y_test=to_xy(testing_dataframe, 'label')"
   ]
  },
  {
   "cell_type": "markdown",
   "id": "484be713",
   "metadata": {},
   "source": [
    "### Create Fully Connected Model\n",
    "Design the model's architecture. "
   ]
  },
  {
   "cell_type": "code",
   "execution_count": null,
   "id": "bb8ee546",
   "metadata": {},
   "outputs": [
    {
     "name": "stdout",
     "output_type": "stream",
     "text": [
      "training model: 0\n"
     ]
    },
    {
     "name": "stderr",
     "output_type": "stream",
     "text": [
      "c:\\Users\\User\\anaconda3\\envs\\lab01\\Lib\\site-packages\\keras\\src\\layers\\core\\dense.py:92: UserWarning: Do not pass an `input_shape`/`input_dim` argument to a layer. When using Sequential models, prefer using an `Input(shape)` object as the first layer in the model instead.\n",
      "  super().__init__(activity_regularizer=activity_regularizer, **kwargs)\n"
     ]
    },
    {
     "name": "stdout",
     "output_type": "stream",
     "text": [
      "Epoch 1/100\n"
     ]
    },
    {
     "ename": "ValueError",
     "evalue": "Could not interpret loss identifier: binary_cross_entropy",
     "output_type": "error",
     "traceback": [
      "\u001b[31m---------------------------------------------------------------------------\u001b[39m",
      "\u001b[31mValueError\u001b[39m                                Traceback (most recent call last)",
      "\u001b[36mCell\u001b[39m\u001b[36m \u001b[39m\u001b[32mIn[30]\u001b[39m\u001b[32m, line 22\u001b[39m\n\u001b[32m     20\u001b[39m model.compile(loss=\u001b[33m'\u001b[39m\u001b[33mbinary_cross_entropy\u001b[39m\u001b[33m'\u001b[39m, optimizer=SGD(learning_rate=\u001b[32m0.01\u001b[39m, momentum=\u001b[32m0.01\u001b[39m))\n\u001b[32m     21\u001b[39m monitor = EarlyStopping(monitor=\u001b[33m'\u001b[39m\u001b[33mval_loss\u001b[39m\u001b[33m'\u001b[39m, min_delta=\u001b[32m1e-3\u001b[39m, patience=\u001b[32m10\u001b[39m, verbose=\u001b[32m2\u001b[39m, mode=\u001b[33m'\u001b[39m\u001b[33mmin\u001b[39m\u001b[33m'\u001b[39m, restore_best_weights=\u001b[38;5;28;01mTrue\u001b[39;00m)\n\u001b[32m---> \u001b[39m\u001b[32m22\u001b[39m history = \u001b[43mmodel\u001b[49m\u001b[43m.\u001b[49m\u001b[43mfit\u001b[49m\u001b[43m(\u001b[49m\u001b[43mx_train\u001b[49m\u001b[43m,\u001b[49m\u001b[43m \u001b[49m\u001b[43my_train\u001b[49m\u001b[43m,\u001b[49m\u001b[43m \u001b[49m\u001b[43mvalidation_data\u001b[49m\u001b[43m=\u001b[49m\u001b[43m(\u001b[49m\u001b[43mx_test\u001b[49m\u001b[43m,\u001b[49m\u001b[43m \u001b[49m\u001b[43my_test\u001b[49m\u001b[43m)\u001b[49m\u001b[43m,\u001b[49m\u001b[43mbatch_size\u001b[49m\u001b[43m=\u001b[49m\u001b[32;43m64\u001b[39;49m\u001b[43m,\u001b[49m\u001b[43m \u001b[49m\u001b[43mcallbacks\u001b[49m\u001b[43m=\u001b[49m\u001b[43m[\u001b[49m\u001b[43mmonitor\u001b[49m\u001b[43m,\u001b[49m\u001b[43m \u001b[49m\u001b[43mcheckpointer\u001b[49m\u001b[43m]\u001b[49m\u001b[43m,\u001b[49m\u001b[43m \u001b[49m\u001b[43mverbose\u001b[49m\u001b[43m=\u001b[49m\u001b[32;43m2\u001b[39;49m\u001b[43m,\u001b[49m\u001b[43m \u001b[49m\u001b[43mepochs\u001b[49m\u001b[43m=\u001b[49m\u001b[32;43m100\u001b[39;49m\u001b[43m)\u001b[49m\n",
      "\u001b[36mFile \u001b[39m\u001b[32mc:\\Users\\User\\anaconda3\\envs\\lab01\\Lib\\site-packages\\keras\\src\\utils\\traceback_utils.py:122\u001b[39m, in \u001b[36mfilter_traceback.<locals>.error_handler\u001b[39m\u001b[34m(*args, **kwargs)\u001b[39m\n\u001b[32m    119\u001b[39m     filtered_tb = _process_traceback_frames(e.__traceback__)\n\u001b[32m    120\u001b[39m     \u001b[38;5;66;03m# To get the full stack trace, call:\u001b[39;00m\n\u001b[32m    121\u001b[39m     \u001b[38;5;66;03m# `keras.config.disable_traceback_filtering()`\u001b[39;00m\n\u001b[32m--> \u001b[39m\u001b[32m122\u001b[39m     \u001b[38;5;28;01mraise\u001b[39;00m e.with_traceback(filtered_tb) \u001b[38;5;28;01mfrom\u001b[39;00m\u001b[38;5;250m \u001b[39m\u001b[38;5;28;01mNone\u001b[39;00m\n\u001b[32m    123\u001b[39m \u001b[38;5;28;01mfinally\u001b[39;00m:\n\u001b[32m    124\u001b[39m     \u001b[38;5;28;01mdel\u001b[39;00m filtered_tb\n",
      "\u001b[36mFile \u001b[39m\u001b[32mc:\\Users\\User\\anaconda3\\envs\\lab01\\Lib\\site-packages\\keras\\src\\losses\\__init__.py:207\u001b[39m, in \u001b[36mget\u001b[39m\u001b[34m(identifier)\u001b[39m\n\u001b[32m    205\u001b[39m     \u001b[38;5;28;01mreturn\u001b[39;00m obj\n\u001b[32m    206\u001b[39m \u001b[38;5;28;01melse\u001b[39;00m:\n\u001b[32m--> \u001b[39m\u001b[32m207\u001b[39m     \u001b[38;5;28;01mraise\u001b[39;00m \u001b[38;5;167;01mValueError\u001b[39;00m(\u001b[33mf\u001b[39m\u001b[33m\"\u001b[39m\u001b[33mCould not interpret loss identifier: \u001b[39m\u001b[38;5;132;01m{\u001b[39;00midentifier\u001b[38;5;132;01m}\u001b[39;00m\u001b[33m\"\u001b[39m)\n",
      "\u001b[31mValueError\u001b[39m: Could not interpret loss identifier: binary_cross_entropy"
     ]
    }
   ],
   "source": [
    "# TODO implement a more robust training setup, implement model tabulation \n",
    "\n",
    "checkpointer = ModelCheckpoint(filepath=os.path.join(full_path, \"best_weights.keras\"), verbose=0, save_best_only=True) # save best model\n",
    "for i in range(5):\n",
    "        print(f\"training model: {i}\")\n",
    "        model = Sequential()\n",
    "        model.add(Dense(512, input_dim=x_train.shape[1], activation='relu'))\n",
    "        model.add(Dense(256, activation='relu'))\n",
    "        model.add(Dropout(0.3))\n",
    "        model.add(Dense(128, activation='relu'))\n",
    "        model.add(Dropout(0.3))\n",
    "        model.add(Dense(64, activation='relu'))\n",
    "        model.add(Dropout(0.3))\n",
    "        model.add(Dense(32, activation='relu'))\n",
    "        model.add(Dropout(0.3))\n",
    "        model.add(Dense(16, activation='relu'))\n",
    "        model.add(Dense(8, activation='relu'))\n",
    "        # model.add(Dense(4, activation='relu'))\n",
    "        model.add(Dense(2, activation='sigmoid')) # single output w/o activation function b/c regression\n",
    "        model.compile(loss='binary_crossentropy', optimizer=SGD(learning_rate=0.01, momentum=0.01))\n",
    "        monitor = EarlyStopping(monitor='val_loss', min_delta=1e-3, patience=10, verbose=2, mode='min', restore_best_weights=True)\n",
    "        history = model.fit(x_train, y_train, validation_data=(x_test, y_test),batch_size=64, callbacks=[monitor, checkpointer], verbose=2, epochs=100)"
   ]
  }
 ],
 "metadata": {
  "kernelspec": {
   "display_name": "Python 3",
   "language": "python",
   "name": "python3"
  },
  "language_info": {
   "codemirror_mode": {
    "name": "ipython",
    "version": 3
   },
   "file_extension": ".py",
   "mimetype": "text/x-python",
   "name": "python",
   "nbconvert_exporter": "python",
   "pygments_lexer": "ipython3",
   "version": "3.13.5"
  }
 },
 "nbformat": 4,
 "nbformat_minor": 5
}
