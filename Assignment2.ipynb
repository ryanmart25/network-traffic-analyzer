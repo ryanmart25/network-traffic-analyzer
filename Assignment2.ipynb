{
 "cells": [
  {
   "cell_type": "code",
   "execution_count": 66,
   "id": "6882764f",
   "metadata": {},
   "outputs": [],
   "source": [
    "#import statements\n",
    "import pandas as pd \n",
    "import numpy as np \n",
    "import tensorflow as tf \n",
    "from pathlib import Path\n",
    "import os\n",
    "from sklearn.model_selection import train_test_split"
   ]
  },
  {
   "cell_type": "code",
   "execution_count": 67,
   "id": "2447f92e",
   "metadata": {},
   "outputs": [],
   "source": [
    "#read from train/test datasets\n",
    "training_dataframe = pd.read_csv(os.path.join(os.getcwd(), 'data/UNSW_NB15_training-set.csv'))\n",
    "testing_dataframe = pd.read_csv(os.path.join(os.getcwd(), 'data/UNSW_NB15_testing-set.csv'))"
   ]
  },
  {
   "cell_type": "code",
   "execution_count": 68,
   "id": "413f56ae",
   "metadata": {},
   "outputs": [],
   "source": [
    "#drop all entries that have a missing value anywhere in the set\n",
    "training_dataframe = training_dataframe.replace('-', np.nan).dropna()\n",
    "testing_dataframe = testing_dataframe.replace('-', np.nan).dropna()\n"
   ]
  },
  {
   "cell_type": "code",
   "execution_count": 69,
   "id": "afd24337",
   "metadata": {},
   "outputs": [
    {
     "data": {
      "text/plain": [
       "(35179, 45)"
      ]
     },
     "execution_count": 69,
     "metadata": {},
     "output_type": "execute_result"
    }
   ],
   "source": [
    "testing_dataframe.shape"
   ]
  },
  {
   "cell_type": "code",
   "execution_count": 70,
   "id": "60380dc0",
   "metadata": {},
   "outputs": [],
   "source": [
    "#get one instance of each value from each dataframe\n",
    "training_unique = training_dataframe[\"proto\"].unique()\n",
    "testing_unique = testing_dataframe[\"proto\"].unique()\n",
    "\n",
    "#get only values from each numpy array\n",
    "common_values = np.intersect1d(training_unique, testing_unique)\n",
    "\n",
    "#make a filtered dataframe containing only values in common_values\n",
    "training_dataframe = training_dataframe[training_dataframe['proto'].isin(common_values)]\n",
    "testing_dataframe = testing_dataframe[testing_dataframe['proto'].isin(common_values)]\n",
    "\n",
    "#same for service\n",
    "training_unique = training_dataframe[\"service\"].unique()\n",
    "testing_unique = testing_dataframe[\"service\"].unique()\n",
    "common_values = np.intersect1d(training_unique, testing_unique)\n",
    "training_dataframe = training_dataframe[training_dataframe['service'].isin(common_values)]\n",
    "testing_dataframe = testing_dataframe[testing_dataframe['service'].isin(common_values)]\n",
    "\n",
    "#same for state\n",
    "training_unique = training_dataframe[\"state\"].unique()\n",
    "testing_unique = testing_dataframe[\"state\"].unique()\n",
    "common_values = np.intersect1d(training_unique, testing_unique)\n",
    "training_dataframe = training_dataframe[training_dataframe['state'].isin(common_values)]\n",
    "testing_dataframe = testing_dataframe[testing_dataframe['state'].isin(common_values)]\n"
   ]
  },
  {
   "cell_type": "code",
   "execution_count": 72,
   "id": "fee37ef5",
   "metadata": {},
   "outputs": [
    {
     "data": {
      "text/plain": [
       "(35178, 45)"
      ]
     },
     "execution_count": 72,
     "metadata": {},
     "output_type": "execute_result"
    }
   ],
   "source": [
    "testing_dataframe.shape"
   ]
  },
  {
   "cell_type": "markdown",
   "id": "6ec1ae45",
   "metadata": {},
   "source": [
    "### Encode Data\n",
    "\n",
    "Z-score and one-hot encode relevant rows\n"
   ]
  },
  {
   "cell_type": "code",
   "execution_count": null,
   "id": "1f62c776",
   "metadata": {},
   "outputs": [],
   "source": []
  }
 ],
 "metadata": {
  "kernelspec": {
   "display_name": "tf",
   "language": "python",
   "name": "python3"
  },
  "language_info": {
   "codemirror_mode": {
    "name": "ipython",
    "version": 3
   },
   "file_extension": ".py",
   "mimetype": "text/x-python",
   "name": "python",
   "nbconvert_exporter": "python",
   "pygments_lexer": "ipython3",
   "version": "3.11.13"
  }
 },
 "nbformat": 4,
 "nbformat_minor": 5
}
