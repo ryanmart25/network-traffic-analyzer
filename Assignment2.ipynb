{
 "cells": [
  {
   "cell_type": "code",
   "execution_count": null,
   "id": "6882764f",
   "metadata": {},
   "outputs": [],
   "source": [
    "#import statements\n",
    "import pandas as pd \n",
    "import numpy as np \n",
    "import tensorflow as tf \n",
    "from pathlib import Path\n",
    "import os\n",
    "from sklearn.model_selection import train_test_split\n",
    "from helper_methods import print_schema, encode_numeric_zscore, encode_text_dummy, print_column, encode_text_index, to_xy\n",
    "from tensorflow.keras.models import Sequential\n",
    "from tensorflow.keras.layers import Dense, Dropout\n",
    "from tensorflow.keras.optimizers import SGD\n",
    "from tensorflow.keras.callbacks import EarlyStopping, ModelCheckpoint\n",
    "from sklearn import metrics\n",
    "import matplotlib.pyplot as plt "
   ]
  },
  {
   "cell_type": "code",
   "execution_count": null,
   "id": "2447f92e",
   "metadata": {},
   "outputs": [],
   "source": [
    "#read from train/test datasets\n",
    "training_dataframe = pd.read_csv(os.path.join(os.getcwd(), 'data/UNSW_NB15_training-set.csv'))\n",
    "testing_dataframe = pd.read_csv(os.path.join(os.getcwd(), 'data/UNSW_NB15_testing-set.csv'))"
   ]
  },
  {
   "cell_type": "code",
   "execution_count": null,
   "id": "413f56ae",
   "metadata": {},
   "outputs": [],
   "source": [
    "#drop all entries that have a missing value anywhere in the set\n",
    "training_dataframe = training_dataframe.replace('-', np.nan).dropna()\n",
    "testing_dataframe = testing_dataframe.replace('-', np.nan).dropna()\n"
   ]
  },
  {
   "cell_type": "code",
   "execution_count": null,
   "id": "afd24337",
   "metadata": {},
   "outputs": [],
   "source": [
    "testing_dataframe.shape"
   ]
  },
  {
   "cell_type": "code",
   "execution_count": null,
   "id": "60380dc0",
   "metadata": {},
   "outputs": [],
   "source": [
    "#get one instance of each value from each dataframe\n",
    "training_unique = training_dataframe[\"proto\"].unique()\n",
    "testing_unique = testing_dataframe[\"proto\"].unique()\n",
    "\n",
    "#get only values from each numpy array\n",
    "common_values = np.intersect1d(training_unique, testing_unique)\n",
    "\n",
    "#make a filtered dataframe containing only values in common_values\n",
    "training_dataframe = training_dataframe[training_dataframe['proto'].isin(common_values)]\n",
    "testing_dataframe = testing_dataframe[testing_dataframe['proto'].isin(common_values)]\n",
    "\n",
    "#same for service\n",
    "training_unique = training_dataframe[\"service\"].unique()\n",
    "testing_unique = testing_dataframe[\"service\"].unique()\n",
    "common_values = np.intersect1d(training_unique, testing_unique)\n",
    "training_dataframe = training_dataframe[training_dataframe['service'].isin(common_values)]\n",
    "testing_dataframe = testing_dataframe[testing_dataframe['service'].isin(common_values)]\n",
    "\n",
    "#same for state\n",
    "training_unique = training_dataframe[\"state\"].unique()\n",
    "testing_unique = testing_dataframe[\"state\"].unique()\n",
    "common_values = np.intersect1d(training_unique, testing_unique)\n",
    "training_dataframe = training_dataframe[training_dataframe['state'].isin(common_values)]\n",
    "testing_dataframe = testing_dataframe[testing_dataframe['state'].isin(common_values)]\n"
   ]
  },
  {
   "cell_type": "code",
   "execution_count": null,
   "id": "fee37ef5",
   "metadata": {},
   "outputs": [],
   "source": [
    "testing_dataframe.shape"
   ]
  },
  {
   "cell_type": "code",
   "execution_count": 12,
   "id": "a38ff501",
   "metadata": {},
   "outputs": [
    {
     "name": "stdout",
     "output_type": "stream",
     "text": [
      "~~~~~~dataframe schema~~~~~~\n",
      "Dataframe shape: (81159, 68) | Dataframe length: 81159\n",
      "Column labels: \n",
      "Index(['id', 'dur', 'spkts', 'dpkts', 'sbytes', 'dbytes', 'rate', 'sttl',\n",
      "       'dttl', 'sload', 'dload', 'sloss', 'dloss', 'sinpkt', 'dinpkt', 'sjit',\n",
      "       'djit', 'swin', 'stcpb', 'dtcpb', 'dwin', 'tcprtt', 'synack', 'ackdat',\n",
      "       'smean', 'dmean', 'trans_depth', 'response_body_len', 'ct_srv_src',\n",
      "       'ct_state_ttl', 'ct_dst_ltm', 'ct_src_dport_ltm', 'ct_dst_sport_ltm',\n",
      "       'ct_dst_src_ltm', 'is_ftp_login', 'ct_ftp_cmd', 'ct_flw_http_mthd',\n",
      "       'ct_src_ltm', 'ct_srv_dst', 'is_sm_ips_ports', 'label', 'proto-tcp',\n",
      "       'proto-udp', 'service-dhcp', 'service-dns', 'service-ftp',\n",
      "       'service-ftp-data', 'service-http', 'service-irc', 'service-pop3',\n",
      "       'service-radius', 'service-smtp', 'service-snmp', 'service-ssh',\n",
      "       'service-ssl', 'state-CON', 'state-FIN', 'state-INT', 'state-REQ',\n",
      "       'attack_cat-Analysis', 'attack_cat-Backdoor', 'attack_cat-DoS',\n",
      "       'attack_cat-Exploits', 'attack_cat-Fuzzers', 'attack_cat-Generic',\n",
      "       'attack_cat-Normal', 'attack_cat-Reconnaissance', 'attack_cat-Worms'],\n",
      "      dtype='object')\n",
      "Dataframe head: \n",
      "          id       dur     spkts     dpkts    sbytes    dbytes      rate  \\\n",
      "3  -1.930145  0.176161 -0.047987 -0.044583 -0.055887 -0.077789 -0.624198   \n",
      "11 -1.929998  0.267844  0.216817  0.076667  0.169738 -0.069503 -0.624030   \n",
      "15 -1.929924 -0.198559 -0.100948 -0.135521 -0.057872 -0.082213  2.286821   \n",
      "17 -1.929887 -0.110864 -0.058579 -0.074896 -0.054947 -0.075916 -0.624026   \n",
      "21 -1.929814 -0.123239 -0.058579 -0.090052 -0.054388 -0.080674 -0.624020   \n",
      "\n",
      "        sttl      dttl     sload  ...  state-REQ  attack_cat-Analysis  \\\n",
      "3  -1.042382  1.554515 -0.610173  ...  -0.053077            -0.083653   \n",
      "11 -1.042382  1.554515 -0.607593  ...  -0.053077            -0.083653   \n",
      "15  0.822744 -0.717531  2.795584  ...  -0.053077            -0.083653   \n",
      "17 -1.042382  1.554515 -0.610013  ...  -0.053077            -0.083653   \n",
      "21  0.822744  1.554515 -0.609945  ...  -0.053077            -0.083653   \n",
      "\n",
      "    attack_cat-Backdoor  attack_cat-DoS  attack_cat-Exploits  \\\n",
      "3             -0.034947       -0.150175            -0.499096   \n",
      "11            -0.034947       -0.150175            -0.499096   \n",
      "15            -0.034947       -0.150175            -0.499096   \n",
      "17            -0.034947       -0.150175            -0.499096   \n",
      "21            -0.034947       -0.150175            -0.499096   \n",
      "\n",
      "    attack_cat-Fuzzers  attack_cat-Generic  attack_cat-Normal  \\\n",
      "3            -0.147625            -0.97364           1.779512   \n",
      "11           -0.147625            -0.97364           1.779512   \n",
      "15           -0.147625            -0.97364           1.779512   \n",
      "17           -0.147625            -0.97364           1.779512   \n",
      "21           -0.147625            -0.97364           1.779512   \n",
      "\n",
      "    attack_cat-Reconnaissance  attack_cat-Worms  \n",
      "3                   -0.146356         -0.037505  \n",
      "11                  -0.146356         -0.037505  \n",
      "15                  -0.146356         -0.037505  \n",
      "17                  -0.146356         -0.037505  \n",
      "21                  -0.146356         -0.037505  \n",
      "\n",
      "[5 rows x 68 columns]\n",
      "~~~~~~dataframe schema~~~~~~\n",
      "Dataframe shape: (35178, 67) | Dataframe length: 35178\n",
      "Column labels: \n",
      "Index(['id', 'dur', 'spkts', 'dpkts', 'sbytes', 'dbytes', 'rate', 'sttl',\n",
      "       'dttl', 'sload', 'dload', 'sloss', 'dloss', 'sinpkt', 'dinpkt', 'sjit',\n",
      "       'djit', 'swin', 'stcpb', 'dtcpb', 'dwin', 'tcprtt', 'synack', 'ackdat',\n",
      "       'smean', 'dmean', 'trans_depth', 'response_body_len', 'ct_srv_src',\n",
      "       'ct_state_ttl', 'ct_dst_ltm', 'ct_src_dport_ltm', 'ct_dst_sport_ltm',\n",
      "       'ct_dst_src_ltm', 'is_ftp_login', 'ct_ftp_cmd', 'ct_flw_http_mthd',\n",
      "       'ct_src_ltm', 'ct_srv_dst', 'is_sm_ips_ports', 'label', 'proto-tcp',\n",
      "       'proto-udp', 'service-dhcp', 'service-dns', 'service-ftp',\n",
      "       'service-ftp-data', 'service-http', 'service-irc', 'service-pop3',\n",
      "       'service-radius', 'service-smtp', 'service-snmp', 'service-ssh',\n",
      "       'service-ssl', 'state-CON', 'state-FIN', 'state-INT', 'state-REQ',\n",
      "       'attack_cat-Backdoor', 'attack_cat-DoS', 'attack_cat-Exploits',\n",
      "       'attack_cat-Fuzzers', 'attack_cat-Generic', 'attack_cat-Normal',\n",
      "       'attack_cat-Reconnaissance', 'attack_cat-Worms'],\n",
      "      dtype='object')\n",
      "Dataframe head: \n",
      "          id       dur     spkts     dpkts    sbytes    dbytes      rate  \\\n",
      "35 -1.686107  0.151343 -0.044029 -0.056243 -0.047047 -0.063537 -0.654858   \n",
      "40 -1.685863  0.357138 -0.044029 -0.041795 -0.047000 -0.063025 -0.654888   \n",
      "45 -1.685618  0.179517 -0.044029 -0.056243 -0.046981 -0.063744 -0.654866   \n",
      "49 -1.685423  0.153834 -0.044029 -0.041795 -0.047103 -0.062220 -0.654846   \n",
      "72 -1.684299  0.270646 -0.031874 -0.056243 -0.046665 -0.063820 -0.654875   \n",
      "\n",
      "        sttl      dttl     sload  ...  state-INT  state-REQ  \\\n",
      "35 -1.100675  1.574342 -0.636450  ...   -1.04209  -0.013061   \n",
      "40 -1.100675  1.574342 -0.636477  ...   -1.04209  -0.013061   \n",
      "45 -1.100675  1.574342 -0.636454  ...   -1.04209  -0.013061   \n",
      "49 -1.100675  1.574342 -0.636451  ...   -1.04209  -0.013061   \n",
      "72 -1.100675  1.574342 -0.636462  ...   -1.04209  -0.013061   \n",
      "\n",
      "    attack_cat-Backdoor  attack_cat-DoS  attack_cat-Exploits  \\\n",
      "35            -0.017686       -0.144241            -0.420841   \n",
      "40            -0.017686       -0.144241            -0.420841   \n",
      "45            -0.017686       -0.144241            -0.420841   \n",
      "49            -0.017686       -0.144241            -0.420841   \n",
      "72            -0.017686       -0.144241            -0.420841   \n",
      "\n",
      "    attack_cat-Fuzzers  attack_cat-Generic  attack_cat-Normal  \\\n",
      "35           -0.124269           -1.050794           1.629467   \n",
      "40           -0.124269           -1.050794           1.629467   \n",
      "45           -0.124269           -1.050794           1.629467   \n",
      "49           -0.124269           -1.050794           1.629467   \n",
      "72           -0.124269           -1.050794           1.629467   \n",
      "\n",
      "    attack_cat-Reconnaissance  attack_cat-Worms  \n",
      "35                  -0.120561         -0.031103  \n",
      "40                  -0.120561         -0.031103  \n",
      "45                  -0.120561         -0.031103  \n",
      "49                  -0.120561         -0.031103  \n",
      "72                  -0.120561         -0.031103  \n",
      "\n",
      "[5 rows x 67 columns]\n"
     ]
    }
   ],
   "source": [
    "print_schema(training_dataframe)\n",
    "print_schema(testing_dataframe)"
   ]
  },
  {
   "cell_type": "markdown",
   "id": "6ec1ae45",
   "metadata": {},
   "source": [
    "### Encode Data\n",
    "\n",
    "One-hot encode relevant rows\n"
   ]
  },
  {
   "cell_type": "code",
   "execution_count": null,
   "id": "0f9c73bc",
   "metadata": {},
   "outputs": [],
   "source": [
    "# one-hot encode non-y features of training dataset\n",
    "encode_text_dummy(training_dataframe, 'proto')\n",
    "encode_text_dummy(training_dataframe, 'service')\n",
    "encode_text_dummy(training_dataframe, 'state')\n",
    "\n",
    "# one-hot encode attack-category column (y)\n",
    "encode_text_index(training_dataframe, 'attack_cat')\n",
    "# one-hot encode non-y features of testing dataset\n",
    "encode_text_dummy(testing_dataframe, 'proto')\n",
    "encode_text_dummy(testing_dataframe, 'service')\n",
    "encode_text_dummy(testing_dataframe, 'state')\n",
    "\n",
    "# one-hot encode attack-category column (y)\n",
    "encode_text_index(testing_dataframe, 'attack_cat')\n"
   ]
  },
  {
   "cell_type": "code",
   "execution_count": null,
   "id": "ff30683a",
   "metadata": {},
   "outputs": [],
   "source": [
    "print_schema(training_dataframe)\n",
    "print_schema(testing_dataframe)\n"
   ]
  },
  {
   "cell_type": "markdown",
   "id": "c603761a",
   "metadata": {},
   "source": [
    "Z-Score relevant rows"
   ]
  },
  {
   "cell_type": "code",
   "execution_count": null,
   "id": "14acd131",
   "metadata": {},
   "outputs": [],
   "source": [
    "for column in training_dataframe.columns:\n",
    "    if column not in ['service', 'srcip', 'dstip', 'proto', 'state','service', 'attack_cat', 'label', 'is_ftp_login', 'is_sm_ips_ports', 'Stime', 'Ltime']:\n",
    "        encode_numeric_zscore(training_dataframe, column)\n",
    "for column in testing_dataframe.columns:\n",
    "    if column not in ['service', 'srcip', 'dstip', 'proto', 'state','service', 'attack_cat', 'label', 'is_ftp_login', 'is_sm_ips_ports', 'Stime', 'Ltime']:\n",
    "        encode_numeric_zscore(testing_dataframe, column)\n"
   ]
  },
  {
   "cell_type": "code",
   "execution_count": null,
   "id": "0322d511",
   "metadata": {},
   "outputs": [],
   "source": [
    "print_schema(training_dataframe)\n",
    "print_schema(testing_dataframe)"
   ]
  },
  {
   "cell_type": "code",
   "execution_count": null,
   "id": "f05ae959",
   "metadata": {},
   "outputs": [],
   "source": [
    "x_train,y_train=to_xy(training_dataframe, 'label')\n",
    "x_test, y_test=to_xy(testing_dataframe, 'label')"
   ]
  },
  {
   "cell_type": "markdown",
   "id": "484be713",
   "metadata": {},
   "source": [
    "### Create Fully Connected Model\n",
    "Design the model's architecture. "
   ]
  },
  {
   "cell_type": "code",
   "execution_count": null,
   "id": "bb8ee546",
   "metadata": {},
   "outputs": [],
   "source": [
    "# TODO implement a more robust training setup, implement model tabulation \n",
    "model = Sequential()\n",
    "model.add(Dense(256, input_dim=x_train.shape[1], activation='relu'))\n",
    "\n",
    "model.add(Dense(128, activation='relu'))\n",
    "model.add(Dense(y_train.shape[1], activation='sigmoid'))"
   ]
  }
 ],
 "metadata": {
  "kernelspec": {
   "display_name": "base",
   "language": "python",
   "name": "python3"
  },
  "language_info": {
   "codemirror_mode": {
    "name": "ipython",
    "version": 3
   },
   "file_extension": ".py",
   "mimetype": "text/x-python",
   "name": "python",
   "nbconvert_exporter": "python",
   "pygments_lexer": "ipython3",
   "version": "3.13.5"
  }
 },
 "nbformat": 4,
 "nbformat_minor": 5
}
