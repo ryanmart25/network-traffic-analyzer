{
 "cells": [
  {
   "cell_type": "code",
   "execution_count": 1,
   "id": "6882764f",
   "metadata": {},
   "outputs": [],
   "source": [
    "#import statements\n",
    "import pandas as pd \n",
    "import numpy as np \n",
    "import tensorflow as tf \n",
    "from pathlib import Path\n",
    "import os\n",
    "from sklearn.model_selection import train_test_split\n",
    "from helper_methods import print_schema, encode_numeric_zscore, encode_text_dummy, print_column, encode_text_index, to_xy\n",
    "from tensorflow.keras.models import Sequential\n",
    "from tensorflow.keras.layers import Dense, Dropout\n",
    "from tensorflow.keras.optimizers import SGD\n",
    "from tensorflow.keras.callbacks import EarlyStopping, ModelCheckpoint\n",
    "from sklearn import metrics\n",
    "import matplotlib.pyplot as plt "
   ]
  },
  {
   "cell_type": "markdown",
   "id": "8cc1d33f",
   "metadata": {},
   "source": [
    "### Setup Environment\n",
    "Create folders for putting test output in"
   ]
  },
  {
   "cell_type": "code",
   "execution_count": null,
   "id": "44ed3197",
   "metadata": {},
   "outputs": [
    {
     "name": "stdout",
     "output_type": "stream",
     "text": [
      "[WinError 3] The system cannot find the path specified: 'c:\\\\Users\\\\User\\\\csc180\\\\network-traffic-analyzer\\\\test-output\\\\iteration-0'\n"
     ]
    }
   ],
   "source": [
    "base_path=os.path.join(os.getcwd(), 'test-output/')\n",
    "\n",
    "iteration='iteration-0'\n",
    "\n",
    "try:\n",
    "    os.mkdir(base_path)\n",
    "    os.mkdir(os.path.join(base_path, iteration))\n",
    "except Exception as e:\n",
    "    print(f\"{e}\")"
   ]
  },
  {
   "cell_type": "code",
   "execution_count": null,
   "id": "2447f92e",
   "metadata": {},
   "outputs": [],
   "source": [
    "#read from train/test datasets\n",
    "training_dataframe = pd.read_csv(os.path.join(os.getcwd(), 'data/UNSW_NB15_training-set.csv'))\n",
    "testing_dataframe = pd.read_csv(os.path.join(os.getcwd(), 'data/UNSW_NB15_testing-set.csv'))"
   ]
  },
  {
   "cell_type": "code",
   "execution_count": null,
   "id": "413f56ae",
   "metadata": {},
   "outputs": [],
   "source": [
    "#drop all entries that have a missing value anywhere in the set\n",
    "training_dataframe = training_dataframe.replace('-', np.nan).dropna()\n",
    "testing_dataframe = testing_dataframe.replace('-', np.nan).dropna()\n"
   ]
  },
  {
   "cell_type": "code",
   "execution_count": null,
   "id": "afd24337",
   "metadata": {},
   "outputs": [],
   "source": [
    "testing_dataframe.shape"
   ]
  },
  {
   "cell_type": "code",
   "execution_count": null,
   "id": "60380dc0",
   "metadata": {},
   "outputs": [],
   "source": [
    "#get one instance of each value from each dataframe\n",
    "training_unique = training_dataframe[\"proto\"].unique()\n",
    "testing_unique = testing_dataframe[\"proto\"].unique()\n",
    "\n",
    "#get only values from each numpy array\n",
    "common_values = np.intersect1d(training_unique, testing_unique)\n",
    "\n",
    "#make a filtered dataframe containing only values in common_values\n",
    "training_dataframe = training_dataframe[training_dataframe['proto'].isin(common_values)]\n",
    "testing_dataframe = testing_dataframe[testing_dataframe['proto'].isin(common_values)]\n",
    "\n",
    "#same for service\n",
    "training_unique = training_dataframe[\"service\"].unique()\n",
    "testing_unique = testing_dataframe[\"service\"].unique()\n",
    "common_values = np.intersect1d(training_unique, testing_unique)\n",
    "training_dataframe = training_dataframe[training_dataframe['service'].isin(common_values)]\n",
    "testing_dataframe = testing_dataframe[testing_dataframe['service'].isin(common_values)]\n",
    "\n",
    "#same for state\n",
    "training_unique = training_dataframe[\"state\"].unique()\n",
    "testing_unique = testing_dataframe[\"state\"].unique()\n",
    "common_values = np.intersect1d(training_unique, testing_unique)\n",
    "training_dataframe = training_dataframe[training_dataframe['state'].isin(common_values)]\n",
    "testing_dataframe = testing_dataframe[testing_dataframe['state'].isin(common_values)]\n"
   ]
  },
  {
   "cell_type": "code",
   "execution_count": null,
   "id": "fee37ef5",
   "metadata": {},
   "outputs": [],
   "source": [
    "testing_dataframe.shape"
   ]
  },
  {
   "cell_type": "code",
   "execution_count": null,
   "id": "a38ff501",
   "metadata": {},
   "outputs": [],
   "source": [
    "print_schema(training_dataframe)\n",
    "print_schema(testing_dataframe)"
   ]
  },
  {
   "cell_type": "markdown",
   "id": "6ec1ae45",
   "metadata": {},
   "source": [
    "### Encode Data\n",
    "\n",
    "One-hot encode relevant rows\n"
   ]
  },
  {
   "cell_type": "code",
   "execution_count": null,
   "id": "0f9c73bc",
   "metadata": {},
   "outputs": [],
   "source": [
    "# one-hot encode non-y features of training dataset\n",
    "encode_text_dummy(training_dataframe, 'proto')\n",
    "encode_text_dummy(training_dataframe, 'service')\n",
    "encode_text_dummy(training_dataframe, 'state')\n",
    "\n",
    "# one-hot encode attack-category column (y)\n",
    "encode_text_index(training_dataframe, 'attack_cat')\n",
    "# one-hot encode non-y features of testing dataset\n",
    "encode_text_dummy(testing_dataframe, 'proto')\n",
    "encode_text_dummy(testing_dataframe, 'service')\n",
    "encode_text_dummy(testing_dataframe, 'state')\n",
    "\n",
    "# one-hot encode attack-category column (y)\n",
    "encode_text_index(testing_dataframe, 'attack_cat')\n"
   ]
  },
  {
   "cell_type": "code",
   "execution_count": null,
   "id": "ff30683a",
   "metadata": {},
   "outputs": [],
   "source": [
    "print_schema(training_dataframe)\n",
    "print_schema(testing_dataframe)\n"
   ]
  },
  {
   "cell_type": "markdown",
   "id": "c603761a",
   "metadata": {},
   "source": [
    "Z-Score relevant rows"
   ]
  },
  {
   "cell_type": "code",
   "execution_count": null,
   "id": "14acd131",
   "metadata": {},
   "outputs": [],
   "source": [
    "for column in training_dataframe.columns:\n",
    "    if column not in ['service', 'srcip', 'dstip', 'proto', 'state','service', 'attack_cat', 'label', 'is_ftp_login', 'is_sm_ips_ports', 'Stime', 'Ltime']:\n",
    "        encode_numeric_zscore(training_dataframe, column)\n",
    "for column in testing_dataframe.columns:\n",
    "    if column not in ['service', 'srcip', 'dstip', 'proto', 'state','service', 'attack_cat', 'label', 'is_ftp_login', 'is_sm_ips_ports', 'Stime', 'Ltime']:\n",
    "        encode_numeric_zscore(testing_dataframe, column)\n"
   ]
  },
  {
   "cell_type": "code",
   "execution_count": null,
   "id": "0322d511",
   "metadata": {},
   "outputs": [],
   "source": [
    "print_schema(training_dataframe)\n",
    "print_schema(testing_dataframe)"
   ]
  },
  {
   "cell_type": "code",
   "execution_count": null,
   "id": "f05ae959",
   "metadata": {},
   "outputs": [],
   "source": [
    "x_train,y_train=to_xy(training_dataframe, 'label')\n",
    "x_test, y_test=to_xy(testing_dataframe, 'label')"
   ]
  },
  {
   "cell_type": "markdown",
   "id": "484be713",
   "metadata": {},
   "source": [
    "### Create Fully Connected Model\n",
    "Design the model's architecture. "
   ]
  },
  {
   "cell_type": "code",
   "execution_count": null,
   "id": "bb8ee546",
   "metadata": {},
   "outputs": [],
   "source": [
    "# TODO implement a more robust training setup, implement model tabulation \n",
    "model = Sequential()\n",
    "model.add(Dense(256, input_dim=x_train.shape[1], activation='relu'))\n",
    "\n",
    "model.add(Dense(128, activation='relu'))\n",
    "model.add(Dense(y_train.shape[1], activation='sigmoid'))"
   ]
  }
 ],
 "metadata": {
  "kernelspec": {
   "display_name": "Python 3",
   "language": "python",
   "name": "python3"
  },
  "language_info": {
   "codemirror_mode": {
    "name": "ipython",
    "version": 3
   },
   "file_extension": ".py",
   "mimetype": "text/x-python",
   "name": "python",
   "nbconvert_exporter": "python",
   "pygments_lexer": "ipython3",
   "version": "3.13.5"
  }
 },
 "nbformat": 4,
 "nbformat_minor": 5
}
